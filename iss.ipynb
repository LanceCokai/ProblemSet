{
 "cells": [
  {
   "cell_type": "code",
   "execution_count": null,
   "id": "4e5e91d5-432f-4103-a2f9-729b6307c524",
   "metadata": {},
   "outputs": [],
   "source": [
    "import requests\n",
    "import time\n",
    "import matplotlib.pyplot as plt\n",
    "\n",
    "def get_iss_location():\n",
    "    response = requests.get(\"http://api.open-notify.org/iss-now.json\")\n",
    "    data = response.json()\n",
    "    timestamp = data['timestamp']\n",
    "    latitude = float(data['iss_position']['latitude'])\n",
    "    longitude = float(data['iss_position']['longitude'])\n",
    "    return timestamp, latitude, longitude\n",
    "\n",
    "timestamps = []\n",
    "latitudes = []\n",
    "longitudes = []\n",
    "\n",
    "for _ in range(100):\n",
    "    timestamp, latitude, longitude = get_iss_location()\n",
    "    timestamps.append(timestamp)\n",
    "    latitudes.append(latitude)\n",
    "    longitudes.append(longitude)\n",
    "    time.sleep(10) \n",
    "\n",
    "plt.figure(figsize=(10, 5))\n",
    "plt.plot(longitudes, latitudes, marker='o', markersize=2, linestyle='-')\n",
    "plt.title('Path of the ISS')\n",
    "plt.xlabel('Longitude')\n",
    "plt.ylabel('Latitude')\n",
    "plt.grid(True)\n",
    "plt.show()"
   ]
  }
 ],
 "metadata": {
  "kernelspec": {
   "display_name": "Python 3 (ipykernel)",
   "language": "python",
   "name": "python3"
  },
  "language_info": {
   "codemirror_mode": {
    "name": "ipython",
    "version": 3
   },
   "file_extension": ".py",
   "mimetype": "text/x-python",
   "name": "python",
   "nbconvert_exporter": "python",
   "pygments_lexer": "ipython3",
   "version": "3.11.7"
  }
 },
 "nbformat": 4,
 "nbformat_minor": 5
}
